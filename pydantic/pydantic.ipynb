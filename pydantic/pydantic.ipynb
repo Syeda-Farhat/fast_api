{
  "cells": [
    {
      "cell_type": "code",
      "execution_count": 21,
      "metadata": {
        "id": "m8jh0Q9VcqWe"
      },
      "outputs": [],
      "source": [
        "import pydantic\n",
        "from pydantic import BaseModel\n",
        "from pydantic import ValidationError\n",
        "from typing import Optional\n",
        "import string"
      ]
    },
    {
      "cell_type": "code",
      "execution_count": 5,
      "metadata": {
        "colab": {
          "base_uri": "https://localhost:8080/"
        },
        "id": "szuAL_49c0rz",
        "outputId": "c358419d-26c3-4575-e275-a36ad410b75a"
      },
      "outputs": [
        {
          "name": "stdout",
          "output_type": "stream",
          "text": [
            "2.8.0\n"
          ]
        }
      ],
      "source": [
        "print(pydantic.__version__) # checking the version of pydantic"
      ]
    },
    {
      "cell_type": "code",
      "execution_count": 6,
      "metadata": {
        "colab": {
          "base_uri": "https://localhost:8080/"
        },
        "id": "I9ySVuQDc5G9",
        "outputId": "f8964032-e7db-457d-bcfd-3ddf1ac2a5b0"
      },
      "outputs": [
        {
          "name": "stdout",
          "output_type": "stream",
          "text": [
            "first_name='John' last_name='Smith' age=42\n"
          ]
        }
      ],
      "source": [
        "# this is our model\n",
        "\n",
        "class Person(BaseModel):\n",
        "    first_name: str\n",
        "    last_name: str\n",
        "    age: int\n",
        "\n",
        "\n",
        "p = Person(first_name=\"John\", last_name=\"Smith\", age=42)\n",
        "print(p)"
      ]
    },
    {
      "cell_type": "code",
      "execution_count": 7,
      "metadata": {
        "colab": {
          "base_uri": "https://localhost:8080/"
        },
        "id": "Ykx4XcKSc8xF",
        "outputId": "bafc8d8e-b098-4560-ca7a-f09b4be7295b"
      },
      "outputs": [
        {
          "name": "stdout",
          "output_type": "stream",
          "text": [
            "1 validation error for Person\n",
            "age\n",
            "  Input should be a valid integer, unable to parse string as an integer [type=int_parsing, input_value='junk', input_type=str]\n",
            "    For further information visit https://errors.pydantic.dev/2.8/v/int_parsing\n"
          ]
        }
      ],
      "source": [
        "try:\n",
        "    Person(first_name=\"john\", last_name=\"Smith\", age=\"junk\")\n",
        "\n",
        "except ValidationError as ex:\n",
        "    print(ex)\n",
        "\n",
        "# above will show an error because we set int to str the age"
      ]
    },
    {
      "cell_type": "code",
      "execution_count": 8,
      "metadata": {
        "id": "BHpQ4QxOdHuQ"
      },
      "outputs": [],
      "source": [
        "try:\n",
        "    Person(first_name=\"john\", last_name=\"Smith\", age=42)\n",
        "\n",
        "except ValidationError as ex:\n",
        "    print(ex)\n"
      ]
    },
    {
      "cell_type": "code",
      "execution_count": 9,
      "metadata": {
        "colab": {
          "base_uri": "https://localhost:8080/"
        },
        "id": "0Sx3IOApdBaU",
        "outputId": "3bb09938-fb0d-458e-dac0-c2e9fc4e5940"
      },
      "outputs": [
        {
          "name": "stdout",
          "output_type": "stream",
          "text": [
            "John\n",
            "False\n",
            "False\n"
          ]
        }
      ],
      "source": [
        "print(p.first_name)\n",
        "print(p.first_name==\"James\")\n",
        "print(p.age==\"qwer\")"
      ]
    },
    {
      "cell_type": "markdown",
      "metadata": {
        "id": "YgH_5Tqyd1vt"
      },
      "source": [
        "### Validation Exceptions"
      ]
    },
    {
      "cell_type": "code",
      "execution_count": 11,
      "metadata": {
        "id": "btzYw7hGdLZ2"
      },
      "outputs": [],
      "source": [
        "try:\n",
        "    Person(first_name=\"john\", last_name=\"Smith\", age=\"asdf\")\n",
        "\n",
        "except ValidationError as ex:\n",
        "    exceptions = ex"
      ]
    },
    {
      "cell_type": "code",
      "execution_count": 12,
      "metadata": {
        "colab": {
          "base_uri": "https://localhost:8080/"
        },
        "id": "zqm8OhY-dnQX",
        "outputId": "f5ccaab2-c91c-4730-ce89-3dbcabaf670c"
      },
      "outputs": [
        {
          "data": {
            "text/plain": [
              "[{'type': 'int_parsing',\n",
              "  'loc': ('age',),\n",
              "  'msg': 'Input should be a valid integer, unable to parse string as an integer',\n",
              "  'input': 'asdf',\n",
              "  'url': 'https://errors.pydantic.dev/2.8/v/int_parsing'}]"
            ]
          },
          "execution_count": 12,
          "metadata": {},
          "output_type": "execute_result"
        }
      ],
      "source": [
        "exceptions.errors()"
      ]
    },
    {
      "cell_type": "code",
      "execution_count": 13,
      "metadata": {
        "colab": {
          "base_uri": "https://localhost:8080/",
          "height": 52
        },
        "id": "rSx-befSdwm6",
        "outputId": "3a8e60f3-ab6b-4cbe-b563-00fecd29b65e"
      },
      "outputs": [
        {
          "data": {
            "application/vnd.google.colaboratory.intrinsic+json": {
              "type": "string"
            },
            "text/plain": [
              "'[{\"type\":\"int_parsing\",\"loc\":[\"age\"],\"msg\":\"Input should be a valid integer, unable to parse string as an integer\",\"input\":\"asdf\",\"url\":\"https://errors.pydantic.dev/2.8/v/int_parsing\"}]'"
            ]
          },
          "execution_count": 13,
          "metadata": {},
          "output_type": "execute_result"
        }
      ],
      "source": [
        "exceptions.json()"
      ]
    },
    {
      "cell_type": "markdown",
      "metadata": {
        "id": "maKXjcm7d6lR"
      },
      "source": [
        "### Deserializing Data"
      ]
    },
    {
      "cell_type": "code",
      "execution_count": 15,
      "metadata": {
        "id": "ayQ83Keld99L"
      },
      "outputs": [],
      "source": [
        "data = {\n",
        "    \"first_name\": \"John\",\n",
        "    \"last_name\": \"Smith\",\n",
        "    \"age\": 42\n",
        "}"
      ]
    },
    {
      "cell_type": "code",
      "execution_count": 16,
      "metadata": {
        "colab": {
          "base_uri": "https://localhost:8080/"
        },
        "id": "43krooWueiyi",
        "outputId": "ad4422c7-ae13-4d1a-b819-b5c1f329c3f8"
      },
      "outputs": [
        {
          "data": {
            "text/plain": [
              "Person(first_name='John', last_name='Smith', age=42)"
            ]
          },
          "execution_count": 16,
          "metadata": {},
          "output_type": "execute_result"
        }
      ],
      "source": [
        "p = Person.model_validate(data)\n",
        "p"
      ]
    },
    {
      "cell_type": "code",
      "execution_count": 18,
      "metadata": {
        "id": "uSALZgxXerJV"
      },
      "outputs": [],
      "source": [
        "data_json = '''\n",
        "{\n",
        "    \"first_name\": \"John\",\n",
        "    \"last_name\": \"Smith\",\n",
        "    \"age\": 42\n",
        "}\n",
        "'''"
      ]
    },
    {
      "cell_type": "code",
      "execution_count": 19,
      "metadata": {
        "colab": {
          "base_uri": "https://localhost:8080/"
        },
        "id": "i028kOBwerir",
        "outputId": "e7e9904e-b711-4b76-c2f7-e9aa380f07dc"
      },
      "outputs": [
        {
          "data": {
            "text/plain": [
              "Person(first_name='John', last_name='Smith', age=42)"
            ]
          },
          "execution_count": 19,
          "metadata": {},
          "output_type": "execute_result"
        }
      ],
      "source": [
        "p = Person.model_validate_json(data_json)\n",
        "p"
      ]
    },
    {
      "cell_type": "markdown",
      "metadata": {
        "id": "dYkzqjtagMa5"
      },
      "source": [
        "### Required vs Optional Fields"
      ]
    },
    {
      "cell_type": "markdown",
      "metadata": {
        "id": "IhEzFex_gvxZ"
      },
      "source": [
        "By defult all fields are required, so if we pass only one values anyone like only age or first name or last name then this is raise validation error because by defult all the fields are must required. Below is the example for this point we do not provide first name and last name and only provide age so this is raising validation errors."
      ]
    },
    {
      "cell_type": "code",
      "execution_count": 20,
      "metadata": {
        "colab": {
          "base_uri": "https://localhost:8080/"
        },
        "id": "Sjxkzt97erlz",
        "outputId": "799d1ff4-ebb5-49dd-d88a-6c137a5f146a"
      },
      "outputs": [
        {
          "name": "stdout",
          "output_type": "stream",
          "text": [
            "2 validation errors for Person\n",
            "first_name\n",
            "  Field required [type=missing, input_value={'age': 42}, input_type=dict]\n",
            "    For further information visit https://errors.pydantic.dev/2.8/v/missing\n",
            "last_name\n",
            "  Field required [type=missing, input_value={'age': 42}, input_type=dict]\n",
            "    For further information visit https://errors.pydantic.dev/2.8/v/missing\n"
          ]
        }
      ],
      "source": [
        "try:\n",
        "    Person(age=42)\n",
        "\n",
        "except ValidationError as ex:\n",
        "    print(ex)"
      ]
    },
    {
      "cell_type": "markdown",
      "metadata": {
        "id": "LhMBT9yNhODE"
      },
      "source": [
        "Now how we can set some fields or any fields to be optional. so we have to make changes in pur model. model is a class which is given below. we need to add some defaults to make them optional."
      ]
    },
    {
      "cell_type": "code",
      "execution_count": 23,
      "metadata": {
        "id": "AAoVSiHDgcYR"
      },
      "outputs": [],
      "source": [
        "class Person(BaseModel):\n",
        "    first_name: str\n",
        "    last_name: str\n",
        "    age: int = 0"
      ]
    },
    {
      "cell_type": "code",
      "execution_count": 24,
      "metadata": {
        "colab": {
          "base_uri": "https://localhost:8080/"
        },
        "id": "RaDd2kSUgcbS",
        "outputId": "83bf3ccb-7428-4ec4-dcd1-7983fa8afec3"
      },
      "outputs": [
        {
          "data": {
            "text/plain": [
              "{'first_name': FieldInfo(annotation=str, required=True),\n",
              " 'last_name': FieldInfo(annotation=str, required=True),\n",
              " 'age': FieldInfo(annotation=int, required=False, default=0)}"
            ]
          },
          "execution_count": 24,
          "metadata": {},
          "output_type": "execute_result"
        }
      ],
      "source": [
        "Person.model_fields"
      ]
    },
    {
      "cell_type": "code",
      "execution_count": 25,
      "metadata": {
        "colab": {
          "base_uri": "https://localhost:8080/"
        },
        "id": "WqL7awtygcd0",
        "outputId": "2c9aaf5c-8dc7-46bc-8e14-696c9d1066fd"
      },
      "outputs": [
        {
          "data": {
            "text/plain": [
              "Person(first_name='John', last_name='Smith', age=0)"
            ]
          },
          "execution_count": 25,
          "metadata": {},
          "output_type": "execute_result"
        }
      ],
      "source": [
        "p = Person(first_name=\"John\", last_name=\"Smith\")\n",
        "p"
      ]
    },
    {
      "cell_type": "code",
      "execution_count": 26,
      "metadata": {
        "colab": {
          "base_uri": "https://localhost:8080/"
        },
        "id": "vEij3iCegcgk",
        "outputId": "6084b56f-9c2a-4aaa-ca57-3c8b52d31a44"
      },
      "outputs": [
        {
          "data": {
            "text/plain": [
              "Person(first_name='John', last_name='Smith', age=42)"
            ]
          },
          "execution_count": 26,
          "metadata": {},
          "output_type": "execute_result"
        }
      ],
      "source": [
        "p = Person(first_name=\"John\", last_name=\"Smith\", age=42)\n",
        "p"
      ]
    },
    {
      "cell_type": "markdown",
      "metadata": {
        "id": "DclslYdvieyH"
      },
      "source": [
        "now the above two cells, if we do not define age then it will set it automatically to default value."
      ]
    },
    {
      "cell_type": "markdown",
      "metadata": {
        "id": "9JojOrHDjsHI"
      },
      "source": [
        "### Nullable Fields"
      ]
    },
    {
      "cell_type": "markdown",
      "metadata": {
        "id": "-_-G4TYNj2zT"
      },
      "source": [
        "while setting the default values, one must needs to be careful about the data type, like if age is int then we must have to set default in int as well similarly first name is in str then we have to set its default to str as well"
      ]
    },
    {
      "cell_type": "code",
      "execution_count": 27,
      "metadata": {
        "id": "lDHBcXqcgcjf"
      },
      "outputs": [],
      "source": [
        "class Person(BaseModel):\n",
        "    first_name: str | None = None  # this is available in 3.10 versions and above\n",
        "    last_name: str\n",
        "    age: int = 0"
      ]
    },
    {
      "cell_type": "code",
      "execution_count": 28,
      "metadata": {
        "colab": {
          "base_uri": "https://localhost:8080/"
        },
        "id": "9MT2xrGCgclx",
        "outputId": "a94e4bdc-4706-4233-8957-0beb8199f5df"
      },
      "outputs": [
        {
          "data": {
            "text/plain": [
              "{'first_name': FieldInfo(annotation=Union[str, NoneType], required=False, default=None),\n",
              " 'last_name': FieldInfo(annotation=str, required=True),\n",
              " 'age': FieldInfo(annotation=int, required=False, default=0)}"
            ]
          },
          "execution_count": 28,
          "metadata": {},
          "output_type": "execute_result"
        }
      ],
      "source": [
        "Person.model_fields"
      ]
    },
    {
      "cell_type": "code",
      "execution_count": 29,
      "metadata": {
        "colab": {
          "base_uri": "https://localhost:8080/"
        },
        "id": "oobPbv_2kXrC",
        "outputId": "d1040616-ef54-4ec8-d3bf-738c95e7e257"
      },
      "outputs": [
        {
          "data": {
            "text/plain": [
              "Person(first_name=None, last_name='Smith', age=0)"
            ]
          },
          "execution_count": 29,
          "metadata": {},
          "output_type": "execute_result"
        }
      ],
      "source": [
        "p = Person(last_name=\"Smith\")\n",
        "p"
      ]
    },
    {
      "cell_type": "code",
      "execution_count": 30,
      "metadata": {
        "id": "ay5u41TwkX2V"
      },
      "outputs": [],
      "source": [
        "class Person(BaseModel):\n",
        "    first_name: Optional[str] = None  # this means that it can be str or none like the work optional suggested\n",
        "    last_name: str\n",
        "    age: int = 0"
      ]
    },
    {
      "cell_type": "code",
      "execution_count": 31,
      "metadata": {
        "colab": {
          "base_uri": "https://localhost:8080/"
        },
        "id": "mXjoL3LGlGTT",
        "outputId": "f29ddff2-ae66-46bb-e265-1ade2caa3fc0"
      },
      "outputs": [
        {
          "data": {
            "text/plain": [
              "Person(first_name=None, last_name='Smith', age=0)"
            ]
          },
          "execution_count": 31,
          "metadata": {},
          "output_type": "execute_result"
        }
      ],
      "source": [
        "p = Person(last_name=\"Smith\")\n",
        "p"
      ]
    },
    {
      "cell_type": "code",
      "execution_count": 32,
      "metadata": {
        "id": "9125eAC4lYHZ"
      },
      "outputs": [],
      "source": [
        "class Person(BaseModel):\n",
        "    first_name: str | None = None\n",
        "    last_name: str\n",
        "    age: int = 0\n",
        "    lucky_numbers: list[int] = []"
      ]
    },
    {
      "cell_type": "code",
      "execution_count": 33,
      "metadata": {
        "colab": {
          "base_uri": "https://localhost:8080/"
        },
        "id": "g4wciPiTljIX",
        "outputId": "7e1b3812-cd27-434d-857a-feba275d043d"
      },
      "outputs": [
        {
          "data": {
            "text/plain": [
              "{'first_name': FieldInfo(annotation=Union[str, NoneType], required=False, default=None),\n",
              " 'last_name': FieldInfo(annotation=str, required=True),\n",
              " 'age': FieldInfo(annotation=int, required=False, default=0),\n",
              " 'lucky_numbers': FieldInfo(annotation=list[int], required=False, default=[])}"
            ]
          },
          "execution_count": 33,
          "metadata": {},
          "output_type": "execute_result"
        }
      ],
      "source": [
        "Person.model_fields"
      ]
    },
    {
      "cell_type": "code",
      "execution_count": 34,
      "metadata": {
        "colab": {
          "base_uri": "https://localhost:8080/"
        },
        "id": "cXNsDm9yl_Vi",
        "outputId": "e8753214-8b99-4eee-929c-f1a25f171ef4"
      },
      "outputs": [
        {
          "data": {
            "text/plain": [
              "Person(first_name=None, last_name='Smith', age=0, lucky_numbers=[1, 2, 3])"
            ]
          },
          "execution_count": 34,
          "metadata": {},
          "output_type": "execute_result"
        }
      ],
      "source": [
        "p = Person(last_name=\"Smith\", lucky_numbers=[1, \"2\", 3.0])\n",
        "p"
      ]
    }
  ],
  "metadata": {
    "colab": {
      "provenance": []
    },
    "kernelspec": {
      "display_name": "Python 3",
      "name": "python3"
    },
    "language_info": {
      "name": "python"
    }
  },
  "nbformat": 4,
  "nbformat_minor": 0
}
